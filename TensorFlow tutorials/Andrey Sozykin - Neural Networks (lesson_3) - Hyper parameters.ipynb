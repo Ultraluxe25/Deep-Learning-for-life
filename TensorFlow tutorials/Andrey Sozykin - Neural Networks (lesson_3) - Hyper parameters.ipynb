{
  "nbformat": 4,
  "nbformat_minor": 0,
  "metadata": {
    "colab": {
      "provenance": [],
      "gpuType": "T4"
    },
    "kernelspec": {
      "name": "python3",
      "display_name": "Python 3"
    },
    "language_info": {
      "name": "python"
    },
    "accelerator": "GPU"
  },
  "cells": [
    {
      "cell_type": "markdown",
      "source": [
        "# Tune parameters for NN with Keras Tuner"
      ],
      "metadata": {
        "id": "nBCZhXsA8iZC"
      }
    },
    {
      "cell_type": "code",
      "execution_count": 1,
      "metadata": {
        "colab": {
          "base_uri": "https://localhost:8080/"
        },
        "id": "osd6t_tw7u0n",
        "outputId": "6adb1669-cc9c-4396-fd4b-94454c588873"
      },
      "outputs": [
        {
          "output_type": "stream",
          "name": "stdout",
          "text": [
            "Cloning into 'keras-tuner'...\n",
            "remote: Enumerating objects: 8999, done.\u001b[K\n",
            "remote: Counting objects: 100% (8999/8999), done.\u001b[K\n",
            "remote: Compressing objects: 100% (2510/2510), done.\u001b[K\n",
            "remote: Total 8999 (delta 6448), reused 8845 (delta 6363), pack-reused 0\u001b[K\n",
            "Receiving objects: 100% (8999/8999), 2.06 MiB | 5.23 MiB/s, done.\n",
            "Resolving deltas: 100% (6448/6448), done.\n"
          ]
        }
      ],
      "source": [
        "# Download Keras Tuner\n",
        "!git clone https://github.com/keras-team/keras-tuner.git"
      ]
    },
    {
      "cell_type": "code",
      "source": [
        "# Install Keras Tuner\n",
        "%cd keras-tuner\n",
        "!pip install ."
      ],
      "metadata": {
        "colab": {
          "base_uri": "https://localhost:8080/"
        },
        "id": "3cbNabMT-CeT",
        "outputId": "f55db085-e3cb-4bbd-ac64-48352d2aa3d6"
      },
      "execution_count": 2,
      "outputs": [
        {
          "output_type": "stream",
          "name": "stdout",
          "text": [
            "/content/keras-tuner\n",
            "Processing /content/keras-tuner\n",
            "  Installing build dependencies ... \u001b[?25l\u001b[?25hdone\n",
            "  Getting requirements to build wheel ... \u001b[?25l\u001b[?25hdone\n",
            "  Preparing metadata (pyproject.toml) ... \u001b[?25l\u001b[?25hdone\n",
            "Collecting keras-core (from keras-tuner==1.4.0.dev0)\n",
            "  Downloading keras_core-0.1.7-py3-none-any.whl (950 kB)\n",
            "\u001b[2K     \u001b[90m━━━━━━━━━━━━━━━━━━━━━━━━━━━━━━━━━━━━━━━\u001b[0m \u001b[32m950.8/950.8 kB\u001b[0m \u001b[31m9.5 MB/s\u001b[0m eta \u001b[36m0:00:00\u001b[0m\n",
            "\u001b[?25hRequirement already satisfied: packaging in /usr/local/lib/python3.10/dist-packages (from keras-tuner==1.4.0.dev0) (23.1)\n",
            "Requirement already satisfied: requests in /usr/local/lib/python3.10/dist-packages (from keras-tuner==1.4.0.dev0) (2.31.0)\n",
            "Collecting kt-legacy (from keras-tuner==1.4.0.dev0)\n",
            "  Downloading kt_legacy-1.0.5-py3-none-any.whl (9.6 kB)\n",
            "Requirement already satisfied: absl-py in /usr/local/lib/python3.10/dist-packages (from keras-core->keras-tuner==1.4.0.dev0) (1.4.0)\n",
            "Requirement already satisfied: numpy in /usr/local/lib/python3.10/dist-packages (from keras-core->keras-tuner==1.4.0.dev0) (1.23.5)\n",
            "Requirement already satisfied: rich in /usr/local/lib/python3.10/dist-packages (from keras-core->keras-tuner==1.4.0.dev0) (13.5.2)\n",
            "Collecting namex (from keras-core->keras-tuner==1.4.0.dev0)\n",
            "  Downloading namex-0.0.7-py3-none-any.whl (5.8 kB)\n",
            "Requirement already satisfied: h5py in /usr/local/lib/python3.10/dist-packages (from keras-core->keras-tuner==1.4.0.dev0) (3.9.0)\n",
            "Requirement already satisfied: dm-tree in /usr/local/lib/python3.10/dist-packages (from keras-core->keras-tuner==1.4.0.dev0) (0.1.8)\n",
            "Requirement already satisfied: charset-normalizer<4,>=2 in /usr/local/lib/python3.10/dist-packages (from requests->keras-tuner==1.4.0.dev0) (3.2.0)\n",
            "Requirement already satisfied: idna<4,>=2.5 in /usr/local/lib/python3.10/dist-packages (from requests->keras-tuner==1.4.0.dev0) (3.4)\n",
            "Requirement already satisfied: urllib3<3,>=1.21.1 in /usr/local/lib/python3.10/dist-packages (from requests->keras-tuner==1.4.0.dev0) (2.0.4)\n",
            "Requirement already satisfied: certifi>=2017.4.17 in /usr/local/lib/python3.10/dist-packages (from requests->keras-tuner==1.4.0.dev0) (2023.7.22)\n",
            "Requirement already satisfied: markdown-it-py>=2.2.0 in /usr/local/lib/python3.10/dist-packages (from rich->keras-core->keras-tuner==1.4.0.dev0) (3.0.0)\n",
            "Requirement already satisfied: pygments<3.0.0,>=2.13.0 in /usr/local/lib/python3.10/dist-packages (from rich->keras-core->keras-tuner==1.4.0.dev0) (2.16.1)\n",
            "Requirement already satisfied: mdurl~=0.1 in /usr/local/lib/python3.10/dist-packages (from markdown-it-py>=2.2.0->rich->keras-core->keras-tuner==1.4.0.dev0) (0.1.2)\n",
            "Building wheels for collected packages: keras-tuner\n",
            "  Building wheel for keras-tuner (pyproject.toml) ... \u001b[?25l\u001b[?25hdone\n",
            "  Created wheel for keras-tuner: filename=keras_tuner-1.4.0.dev0-py3-none-any.whl size=182771 sha256=aa7b4cb13e0e6f4385e496342e09d13589b544c41f40f461c634de6413b0262a\n",
            "  Stored in directory: /root/.cache/pip/wheels/6a/f2/f6/4d216b7ba0b7c0374eb8c129c16da679bd15329b761cbad121\n",
            "Successfully built keras-tuner\n",
            "Installing collected packages: namex, kt-legacy, keras-core, keras-tuner\n",
            "Successfully installed keras-core-0.1.7 keras-tuner-1.4.0.dev0 kt-legacy-1.0.5 namex-0.0.7\n"
          ]
        }
      ]
    },
    {
      "cell_type": "code",
      "source": [
        "# Import libraries\n",
        "import numpy as np\n",
        "import matplotlib.pyplot as plt\n",
        "from PIL import Image\n",
        "from google.colab import files\n",
        "from tensorflow.keras.datasets import fashion_mnist\n",
        "from tensorflow.keras.models import Sequential\n",
        "from tensorflow.keras.layers import Dense\n",
        "from tensorflow.keras import utils\n",
        "from tensorflow.keras.preprocessing import image\n",
        "from kerastuner import RandomSearch, Hyperband, BayesianOptimization"
      ],
      "metadata": {
        "colab": {
          "base_uri": "https://localhost:8080/"
        },
        "id": "b0S78tXd-YNW",
        "outputId": "da3eeb78-4dfc-4507-c941-43497e2f0953"
      },
      "execution_count": 3,
      "outputs": [
        {
          "output_type": "stream",
          "name": "stdout",
          "text": [
            "Using TensorFlow backend\n"
          ]
        },
        {
          "output_type": "stream",
          "name": "stderr",
          "text": [
            "<ipython-input-3-bee5f6b8c352>:11: DeprecationWarning: `import kerastuner` is deprecated, please use `import keras_tuner`.\n",
            "  from kerastuner import RandomSearch, Hyperband, BayesianOptimization\n"
          ]
        }
      ]
    },
    {
      "cell_type": "code",
      "source": [
        "# Preprocess data\n",
        "(x_train, y_train), (x_test, y_test) = fashion_mnist.load_data()\n",
        "\n",
        "x_train = x_train.reshape(60_000, 784)\n",
        "x_test = x_test.reshape(10_000, 784)\n",
        "\n",
        "# Normalize data\n",
        "x_train = x_train / 255\n",
        "x_test = x_test / 255\n",
        "\n",
        "# One-hot encoding\n",
        "y_train = utils.to_categorical(y_train, 10)\n",
        "y_test = utils.to_categorical(y_test, 10)"
      ],
      "metadata": {
        "colab": {
          "base_uri": "https://localhost:8080/"
        },
        "id": "6Mvd7s03_Dgd",
        "outputId": "2917f002-04fe-44f7-d58a-cb502777c0f8"
      },
      "execution_count": 4,
      "outputs": [
        {
          "output_type": "stream",
          "name": "stdout",
          "text": [
            "Downloading data from https://storage.googleapis.com/tensorflow/tf-keras-datasets/train-labels-idx1-ubyte.gz\n",
            "29515/29515 [==============================] - 0s 0us/step\n",
            "Downloading data from https://storage.googleapis.com/tensorflow/tf-keras-datasets/train-images-idx3-ubyte.gz\n",
            "26421880/26421880 [==============================] - 0s 0us/step\n",
            "Downloading data from https://storage.googleapis.com/tensorflow/tf-keras-datasets/t10k-labels-idx1-ubyte.gz\n",
            "5148/5148 [==============================] - 0s 0us/step\n",
            "Downloading data from https://storage.googleapis.com/tensorflow/tf-keras-datasets/t10k-images-idx3-ubyte.gz\n",
            "4422102/4422102 [==============================] - 0s 0us/step\n"
          ]
        }
      ]
    },
    {
      "cell_type": "code",
      "source": [
        "# Create model\n",
        "def build_model(hp):\n",
        "    model = Sequential()\n",
        "    model.add(Dense(units=hp.Int('units_input',\n",
        "                                   min_value=128,\n",
        "                                   max_value=1024,\n",
        "                                   step=32),\n",
        "                    input_dim=784,\n",
        "                    activation='relu'))\n",
        "    model.add(Dense(10, activation='softmax'))\n",
        "    model.compile(optimizer='SGD',\n",
        "                  loss='categorical_crossentropy',\n",
        "                  metrics=['accuracy'])\n",
        "    return model"
      ],
      "metadata": {
        "id": "3EdLlM9Jk4dU"
      },
      "execution_count": 5,
      "outputs": []
    },
    {
      "cell_type": "code",
      "source": [
        "# Create Tuner\n",
        "tuner = RandomSearch(\n",
        "    hypermodel=build_model,\n",
        "    objective='val_accuracy',  # metrics to optimize\n",
        "    max_trials=10,  # max quantity of model's launches with different values of hyperparemeters\n",
        "    directory='test_directory'  # folder where model will be saved\n",
        ")\n",
        "tuner"
      ],
      "metadata": {
        "colab": {
          "base_uri": "https://localhost:8080/"
        },
        "id": "kYR3c3NbmJ7s",
        "outputId": "19595597-1fc9-45df-9bdb-799d1f414cc1"
      },
      "execution_count": 6,
      "outputs": [
        {
          "output_type": "execute_result",
          "data": {
            "text/plain": [
              "<keras_tuner.tuners.randomsearch.RandomSearch at 0x7c3781358f10>"
            ]
          },
          "metadata": {},
          "execution_count": 6
        }
      ]
    },
    {
      "cell_type": "markdown",
      "source": [
        "# [RandomSearch Tuner](https://keras.io/api/keras_tuner/tuners/random/)"
      ],
      "metadata": {
        "id": "JLPhUKmRw7tL"
      }
    },
    {
      "cell_type": "code",
      "source": [
        "# Search space\n",
        "tuner.search_space_summary()"
      ],
      "metadata": {
        "colab": {
          "base_uri": "https://localhost:8080/"
        },
        "id": "EksEllNLw_Yb",
        "outputId": "87a6cf24-31f1-43f9-cbad-efb85c99d0e2"
      },
      "execution_count": 7,
      "outputs": [
        {
          "output_type": "stream",
          "name": "stdout",
          "text": [
            "Search space summary\n",
            "Default search space size: 1\n",
            "units_input (Int)\n",
            "{'default': None, 'conditions': [], 'min_value': 128, 'max_value': 1024, 'step': 32, 'sampling': 'linear'}\n"
          ]
        }
      ]
    },
    {
      "cell_type": "code",
      "source": [
        "# Choose hyperparameters\n",
        "tuner.search(\n",
        "    x_train,\n",
        "    y_train,\n",
        "    batch_size=256,  # mini-sample size\n",
        "    epochs=3,\n",
        "    validation_split=0.2,\n",
        "    verbose=1  # regime of output info\n",
        ")"
      ],
      "metadata": {
        "colab": {
          "base_uri": "https://localhost:8080/"
        },
        "id": "WVsB1megzcBa",
        "outputId": "1ed1326f-8b37-4c2e-b2fe-e38d695c92ab"
      },
      "execution_count": 8,
      "outputs": [
        {
          "output_type": "stream",
          "name": "stdout",
          "text": [
            "Trial 10 Complete [00h 00m 05s]\n",
            "val_accuracy: 0.7867500185966492\n",
            "\n",
            "Best val_accuracy So Far: 0.7889166474342346\n",
            "Total elapsed time: 00h 00m 59s\n"
          ]
        }
      ]
    },
    {
      "cell_type": "markdown",
      "source": [
        "# Get best model"
      ],
      "metadata": {
        "id": "nZBvbApX1pfv"
      }
    },
    {
      "cell_type": "code",
      "source": [
        "tuner.results_summary()"
      ],
      "metadata": {
        "colab": {
          "base_uri": "https://localhost:8080/"
        },
        "id": "4ieydqbg0SJO",
        "outputId": "6db76087-8d86-44c0-e629-4fc689d1eef9"
      },
      "execution_count": 9,
      "outputs": [
        {
          "output_type": "stream",
          "name": "stdout",
          "text": [
            "Results summary\n",
            "Results in test_directory/untitled_project\n",
            "Showing 10 best trials\n",
            "Objective(name=\"val_accuracy\", direction=\"max\")\n",
            "\n",
            "Trial 04 summary\n",
            "Hyperparameters:\n",
            "units_input: 896\n",
            "Score: 0.7889166474342346\n",
            "\n",
            "Trial 09 summary\n",
            "Hyperparameters:\n",
            "units_input: 480\n",
            "Score: 0.7867500185966492\n",
            "\n",
            "Trial 02 summary\n",
            "Hyperparameters:\n",
            "units_input: 992\n",
            "Score: 0.7861666679382324\n",
            "\n",
            "Trial 01 summary\n",
            "Hyperparameters:\n",
            "units_input: 352\n",
            "Score: 0.7825833559036255\n",
            "\n",
            "Trial 03 summary\n",
            "Hyperparameters:\n",
            "units_input: 544\n",
            "Score: 0.7819166779518127\n",
            "\n",
            "Trial 00 summary\n",
            "Hyperparameters:\n",
            "units_input: 416\n",
            "Score: 0.781499981880188\n",
            "\n",
            "Trial 06 summary\n",
            "Hyperparameters:\n",
            "units_input: 512\n",
            "Score: 0.7797499895095825\n",
            "\n",
            "Trial 08 summary\n",
            "Hyperparameters:\n",
            "units_input: 576\n",
            "Score: 0.7794166803359985\n",
            "\n",
            "Trial 05 summary\n",
            "Hyperparameters:\n",
            "units_input: 288\n",
            "Score: 0.7765833139419556\n",
            "\n",
            "Trial 07 summary\n",
            "Hyperparameters:\n",
            "units_input: 320\n",
            "Score: 0.7764166593551636\n"
          ]
        }
      ]
    },
    {
      "cell_type": "code",
      "source": [
        "# Three best models\n",
        "models = tuner.get_best_models(num_models=3)"
      ],
      "metadata": {
        "id": "ldqPlkxJ1ugI"
      },
      "execution_count": 10,
      "outputs": []
    },
    {
      "cell_type": "code",
      "source": [
        "# Evaluate quality of models on test data\n",
        "for model in models:\n",
        "  model.summary()\n",
        "  model.evaluate(x_test, y_test)\n",
        "  print()"
      ],
      "metadata": {
        "colab": {
          "base_uri": "https://localhost:8080/"
        },
        "id": "o3Nfz0Lm2FVR",
        "outputId": "34679cd0-6ed5-4cc6-de35-4a50c08ee0e3"
      },
      "execution_count": 11,
      "outputs": [
        {
          "output_type": "stream",
          "name": "stdout",
          "text": [
            "Model: \"sequential\"\n",
            "_________________________________________________________________\n",
            " Layer (type)                Output Shape              Param #   \n",
            "=================================================================\n",
            " dense (Dense)               (None, 896)               703360    \n",
            "                                                                 \n",
            " dense_1 (Dense)             (None, 10)                8970      \n",
            "                                                                 \n",
            "=================================================================\n",
            "Total params: 712330 (2.72 MB)\n",
            "Trainable params: 712330 (2.72 MB)\n",
            "Non-trainable params: 0 (0.00 Byte)\n",
            "_________________________________________________________________\n",
            "313/313 [==============================] - 1s 3ms/step - loss: 0.6875 - accuracy: 0.7800\n",
            "\n",
            "Model: \"sequential\"\n",
            "_________________________________________________________________\n",
            " Layer (type)                Output Shape              Param #   \n",
            "=================================================================\n",
            " dense (Dense)               (None, 480)               376800    \n",
            "                                                                 \n",
            " dense_1 (Dense)             (None, 10)                4810      \n",
            "                                                                 \n",
            "=================================================================\n",
            "Total params: 381610 (1.46 MB)\n",
            "Trainable params: 381610 (1.46 MB)\n",
            "Non-trainable params: 0 (0.00 Byte)\n",
            "_________________________________________________________________\n",
            "313/313 [==============================] - 1s 3ms/step - loss: 0.7058 - accuracy: 0.7712\n",
            "\n",
            "Model: \"sequential\"\n",
            "_________________________________________________________________\n",
            " Layer (type)                Output Shape              Param #   \n",
            "=================================================================\n",
            " dense (Dense)               (None, 992)               778720    \n",
            "                                                                 \n",
            " dense_1 (Dense)             (None, 10)                9930      \n",
            "                                                                 \n",
            "=================================================================\n",
            "Total params: 788650 (3.01 MB)\n",
            "Trainable params: 788650 (3.01 MB)\n",
            "Non-trainable params: 0 (0.00 Byte)\n",
            "_________________________________________________________________\n",
            "313/313 [==============================] - 1s 3ms/step - loss: 0.6902 - accuracy: 0.7745\n",
            "\n"
          ]
        }
      ]
    },
    {
      "cell_type": "markdown",
      "source": [
        "# Let's add one hidden layer to our model!"
      ],
      "metadata": {
        "id": "vO-Zddfd6WOl"
      }
    },
    {
      "cell_type": "code",
      "source": [
        "# Add hidden layer in our NN architecture\n",
        "def build_new_model(hp):\n",
        "    model = Sequential()\n",
        "    model.add(Dense(units=hp.Int('units_input',\n",
        "                                   min_value=512,\n",
        "                                   max_value=1024,\n",
        "                                   step=32),\n",
        "                    input_dim=784,\n",
        "                    activation='relu'))\n",
        "    # Add hidden layer\n",
        "    model.add(Dense(units=hp.Int('units_hidden',\n",
        "                                 min_value=128,\n",
        "                                 max_value=600,\n",
        "                                 step=32),\n",
        "                      activation='relu'))\n",
        "    model.add(Dense(10, activation='softmax'))\n",
        "    model.compile(optimizer='SGD',\n",
        "                  loss='categorical_crossentropy',\n",
        "                  metrics=['accuracy'])\n",
        "    return model"
      ],
      "metadata": {
        "id": "WPGz6JJx2RH8"
      },
      "execution_count": 12,
      "outputs": []
    },
    {
      "cell_type": "code",
      "source": [
        "# Use Bayesian optimizator\n",
        "tuner = BayesianOptimization(\n",
        "    build_new_model,\n",
        "    objective='val_accuracy',\n",
        "    max_trials=10,\n",
        "    directory='test_directory',\n",
        "    overwrite=True\n",
        ")"
      ],
      "metadata": {
        "id": "Bg6PhWTj6T6f"
      },
      "execution_count": 13,
      "outputs": []
    },
    {
      "cell_type": "code",
      "source": [
        "tuner.search_space_summary()"
      ],
      "metadata": {
        "colab": {
          "base_uri": "https://localhost:8080/"
        },
        "id": "UHOQcOKQ8x5q",
        "outputId": "bc0d50fb-b25b-4b4d-9d09-0f9a519c9864"
      },
      "execution_count": 14,
      "outputs": [
        {
          "output_type": "stream",
          "name": "stdout",
          "text": [
            "Search space summary\n",
            "Default search space size: 2\n",
            "units_input (Int)\n",
            "{'default': None, 'conditions': [], 'min_value': 512, 'max_value': 1024, 'step': 32, 'sampling': 'linear'}\n",
            "units_hidden (Int)\n",
            "{'default': None, 'conditions': [], 'min_value': 128, 'max_value': 600, 'step': 32, 'sampling': 'linear'}\n"
          ]
        }
      ]
    },
    {
      "cell_type": "code",
      "source": [
        "tuner.search(\n",
        "    x_train,\n",
        "    y_train,\n",
        "    batch_size=256,  # mini-sample size\n",
        "    epochs=3,\n",
        "    validation_split=0.2,\n",
        "    verbose=1  # regime of output info\n",
        ")"
      ],
      "metadata": {
        "colab": {
          "base_uri": "https://localhost:8080/"
        },
        "id": "Y9FRz8dJ-rSi",
        "outputId": "a2530640-edef-45a4-85c4-93b77486a182"
      },
      "execution_count": 15,
      "outputs": [
        {
          "output_type": "stream",
          "name": "stdout",
          "text": [
            "Trial 10 Complete [00h 00m 06s]\n",
            "val_accuracy: 0.8004166483879089\n",
            "\n",
            "Best val_accuracy So Far: 0.8010833263397217\n",
            "Total elapsed time: 00h 01m 03s\n"
          ]
        }
      ]
    },
    {
      "cell_type": "code",
      "source": [
        "tuner.results_summary()"
      ],
      "metadata": {
        "colab": {
          "base_uri": "https://localhost:8080/"
        },
        "id": "XaN7zmsB-5n7",
        "outputId": "b24b839a-8b5e-4f66-8964-076ef7e0a52e"
      },
      "execution_count": 16,
      "outputs": [
        {
          "output_type": "stream",
          "name": "stdout",
          "text": [
            "Results summary\n",
            "Results in test_directory/untitled_project\n",
            "Showing 10 best trials\n",
            "Objective(name=\"val_accuracy\", direction=\"max\")\n",
            "\n",
            "Trial 06 summary\n",
            "Hyperparameters:\n",
            "units_input: 992\n",
            "units_hidden: 288\n",
            "Score: 0.8010833263397217\n",
            "\n",
            "Trial 03 summary\n",
            "Hyperparameters:\n",
            "units_input: 800\n",
            "units_hidden: 352\n",
            "Score: 0.8004999756813049\n",
            "\n",
            "Trial 09 summary\n",
            "Hyperparameters:\n",
            "units_input: 960\n",
            "units_hidden: 288\n",
            "Score: 0.8004166483879089\n",
            "\n",
            "Trial 04 summary\n",
            "Hyperparameters:\n",
            "units_input: 928\n",
            "units_hidden: 544\n",
            "Score: 0.7983333468437195\n",
            "\n",
            "Trial 01 summary\n",
            "Hyperparameters:\n",
            "units_input: 800\n",
            "units_hidden: 512\n",
            "Score: 0.7980833053588867\n",
            "\n",
            "Trial 00 summary\n",
            "Hyperparameters:\n",
            "units_input: 704\n",
            "units_hidden: 320\n",
            "Score: 0.7960000038146973\n",
            "\n",
            "Trial 02 summary\n",
            "Hyperparameters:\n",
            "units_input: 576\n",
            "units_hidden: 256\n",
            "Score: 0.7944166660308838\n",
            "\n",
            "Trial 07 summary\n",
            "Hyperparameters:\n",
            "units_input: 864\n",
            "units_hidden: 128\n",
            "Score: 0.7925000190734863\n",
            "\n",
            "Trial 08 summary\n",
            "Hyperparameters:\n",
            "units_input: 1024\n",
            "units_hidden: 416\n",
            "Score: 0.7885000109672546\n",
            "\n",
            "Trial 05 summary\n",
            "Hyperparameters:\n",
            "units_input: 544\n",
            "units_hidden: 448\n",
            "Score: 0.7865833044052124\n"
          ]
        }
      ]
    },
    {
      "cell_type": "code",
      "source": [
        "new_models = tuner.get_best_models(num_models=3)"
      ],
      "metadata": {
        "id": "7kFUsgJF_YSt"
      },
      "execution_count": 17,
      "outputs": []
    },
    {
      "cell_type": "code",
      "source": [
        "for model in models:\n",
        "    model.summary()\n",
        "    model.evaluate(x_test, y_test)\n",
        "    print()"
      ],
      "metadata": {
        "colab": {
          "base_uri": "https://localhost:8080/"
        },
        "id": "j0JG5rWX_gvv",
        "outputId": "a55f8c3d-f151-4fe9-a4ce-7b0c29dfe423"
      },
      "execution_count": 18,
      "outputs": [
        {
          "output_type": "stream",
          "name": "stdout",
          "text": [
            "Model: \"sequential\"\n",
            "_________________________________________________________________\n",
            " Layer (type)                Output Shape              Param #   \n",
            "=================================================================\n",
            " dense (Dense)               (None, 896)               703360    \n",
            "                                                                 \n",
            " dense_1 (Dense)             (None, 10)                8970      \n",
            "                                                                 \n",
            "=================================================================\n",
            "Total params: 712330 (2.72 MB)\n",
            "Trainable params: 712330 (2.72 MB)\n",
            "Non-trainable params: 0 (0.00 Byte)\n",
            "_________________________________________________________________\n",
            "313/313 [==============================] - 1s 3ms/step - loss: 0.6875 - accuracy: 0.7800\n",
            "\n",
            "Model: \"sequential\"\n",
            "_________________________________________________________________\n",
            " Layer (type)                Output Shape              Param #   \n",
            "=================================================================\n",
            " dense (Dense)               (None, 480)               376800    \n",
            "                                                                 \n",
            " dense_1 (Dense)             (None, 10)                4810      \n",
            "                                                                 \n",
            "=================================================================\n",
            "Total params: 381610 (1.46 MB)\n",
            "Trainable params: 381610 (1.46 MB)\n",
            "Non-trainable params: 0 (0.00 Byte)\n",
            "_________________________________________________________________\n",
            "313/313 [==============================] - 1s 4ms/step - loss: 0.7058 - accuracy: 0.7712\n",
            "\n",
            "Model: \"sequential\"\n",
            "_________________________________________________________________\n",
            " Layer (type)                Output Shape              Param #   \n",
            "=================================================================\n",
            " dense (Dense)               (None, 992)               778720    \n",
            "                                                                 \n",
            " dense_1 (Dense)             (None, 10)                9930      \n",
            "                                                                 \n",
            "=================================================================\n",
            "Total params: 788650 (3.01 MB)\n",
            "Trainable params: 788650 (3.01 MB)\n",
            "Non-trainable params: 0 (0.00 Byte)\n",
            "_________________________________________________________________\n",
            "313/313 [==============================] - 1s 4ms/step - loss: 0.6902 - accuracy: 0.7745\n",
            "\n"
          ]
        }
      ]
    },
    {
      "cell_type": "code",
      "source": [
        "# Let's find best activation function and optimizer using hyperparameters\n",
        "def build_hp_model(hp):\n",
        "    model = Sequential()\n",
        "    # Activation choice\n",
        "    activation_choise = hp.Choice('activation',\n",
        "                                  values=['relu', 'sigmoid', 'tanh', 'elu', 'selu'])\n",
        "    model.add(Dense(units=hp.Int('units_input',\n",
        "                                   min_value=512,\n",
        "                                   max_value=1024,\n",
        "                                   step=32),\n",
        "                    input_dim=784,\n",
        "                    activation=activation_choise))\n",
        "    # Add hidden layer\n",
        "    model.add(Dense(units=hp.Int('units_hidden',\n",
        "                                 min_value=128,\n",
        "                                 max_value=600,\n",
        "                                 step=32),\n",
        "                      activation=activation_choise))\n",
        "    model.add(Dense(10, activation='softmax'))\n",
        "    model.compile(optimizer=hp.Choice('optimizer', values=['adam', 'rmsprop', 'SGD']),\n",
        "                  loss='categorical_crossentropy',\n",
        "                  metrics=['accuracy'])\n",
        "    return model"
      ],
      "metadata": {
        "id": "TXfSLdFG_nT9"
      },
      "execution_count": 19,
      "outputs": []
    },
    {
      "cell_type": "markdown",
      "source": [
        "# [Getting started with KerasTuner](https://keras.io/guides/keras_tuner/getting_started/)"
      ],
      "metadata": {
        "id": "3mcud4zRLr9S"
      }
    },
    {
      "cell_type": "code",
      "source": [
        "new_tuner = BayesianOptimization(\n",
        "    build_hp_model,\n",
        "    objective='val_accuracy',\n",
        "    max_trials=5,\n",
        "    directory='test_directory',\n",
        "    overwrite=True\n",
        ")"
      ],
      "metadata": {
        "id": "diNMKVvCLyCH"
      },
      "execution_count": 20,
      "outputs": []
    },
    {
      "cell_type": "code",
      "source": [
        "new_tuner.search_space_summary()"
      ],
      "metadata": {
        "colab": {
          "base_uri": "https://localhost:8080/"
        },
        "id": "0nQO-DMfSvdG",
        "outputId": "e6281530-abb1-4218-d591-224ff07524f5"
      },
      "execution_count": 21,
      "outputs": [
        {
          "output_type": "stream",
          "name": "stdout",
          "text": [
            "Search space summary\n",
            "Default search space size: 4\n",
            "activation (Choice)\n",
            "{'default': 'relu', 'conditions': [], 'values': ['relu', 'sigmoid', 'tanh', 'elu', 'selu'], 'ordered': False}\n",
            "units_input (Int)\n",
            "{'default': None, 'conditions': [], 'min_value': 512, 'max_value': 1024, 'step': 32, 'sampling': 'linear'}\n",
            "units_hidden (Int)\n",
            "{'default': None, 'conditions': [], 'min_value': 128, 'max_value': 600, 'step': 32, 'sampling': 'linear'}\n",
            "optimizer (Choice)\n",
            "{'default': 'adam', 'conditions': [], 'values': ['adam', 'rmsprop', 'SGD'], 'ordered': False}\n"
          ]
        }
      ]
    },
    {
      "cell_type": "code",
      "source": [
        "new_tuner.search(\n",
        "    x_train,\n",
        "    y_train,\n",
        "    batch_size=256,  # mini-sample size\n",
        "    epochs=3,\n",
        "    validation_split=0.2,\n",
        "    verbose=1  # regime of output info\n",
        ")"
      ],
      "metadata": {
        "colab": {
          "base_uri": "https://localhost:8080/"
        },
        "id": "UlaluXbKTB6-",
        "outputId": "d36b584d-830d-4f9d-b19a-43a25f1e4ce2"
      },
      "execution_count": 22,
      "outputs": [
        {
          "output_type": "stream",
          "name": "stdout",
          "text": [
            "Trial 5 Complete [00h 00m 07s]\n",
            "val_accuracy: 0.8319166898727417\n",
            "\n",
            "Best val_accuracy So Far: 0.8709166646003723\n",
            "Total elapsed time: 00h 00m 28s\n"
          ]
        }
      ]
    },
    {
      "cell_type": "markdown",
      "source": [],
      "metadata": {
        "id": "w7oCqokSTxx1"
      }
    },
    {
      "cell_type": "code",
      "source": [
        "new_tuner.results_summary()"
      ],
      "metadata": {
        "colab": {
          "base_uri": "https://localhost:8080/"
        },
        "id": "oE24V0MjTgg3",
        "outputId": "99939a5a-46d2-4f03-9821-68ea842c9b32"
      },
      "execution_count": 23,
      "outputs": [
        {
          "output_type": "stream",
          "name": "stdout",
          "text": [
            "Results summary\n",
            "Results in test_directory/untitled_project\n",
            "Showing 10 best trials\n",
            "Objective(name=\"val_accuracy\", direction=\"max\")\n",
            "\n",
            "Trial 0 summary\n",
            "Hyperparameters:\n",
            "activation: selu\n",
            "units_input: 672\n",
            "units_hidden: 256\n",
            "optimizer: adam\n",
            "Score: 0.8709166646003723\n",
            "\n",
            "Trial 3 summary\n",
            "Hyperparameters:\n",
            "activation: elu\n",
            "units_input: 576\n",
            "units_hidden: 160\n",
            "optimizer: adam\n",
            "Score: 0.8616666793823242\n",
            "\n",
            "Trial 2 summary\n",
            "Hyperparameters:\n",
            "activation: tanh\n",
            "units_input: 544\n",
            "units_hidden: 352\n",
            "optimizer: rmsprop\n",
            "Score: 0.8533333539962769\n",
            "\n",
            "Trial 4 summary\n",
            "Hyperparameters:\n",
            "activation: selu\n",
            "units_input: 992\n",
            "units_hidden: 384\n",
            "optimizer: rmsprop\n",
            "Score: 0.8319166898727417\n",
            "\n",
            "Trial 1 summary\n",
            "Hyperparameters:\n",
            "activation: selu\n",
            "units_input: 576\n",
            "units_hidden: 512\n",
            "optimizer: SGD\n",
            "Score: 0.8202499747276306\n"
          ]
        }
      ]
    },
    {
      "cell_type": "code",
      "source": [
        "best_model = new_tuner.get_best_models(1)\n",
        "best_model[0].summary()\n",
        "best_model[0].evaluate(x_test, y_test)"
      ],
      "metadata": {
        "colab": {
          "base_uri": "https://localhost:8080/"
        },
        "id": "tzKDhOjqT59p",
        "outputId": "324d8080-49ce-47a7-df9f-c86f5f170741"
      },
      "execution_count": 24,
      "outputs": [
        {
          "output_type": "stream",
          "name": "stdout",
          "text": [
            "Model: \"sequential\"\n",
            "_________________________________________________________________\n",
            " Layer (type)                Output Shape              Param #   \n",
            "=================================================================\n",
            " dense (Dense)               (None, 672)               527520    \n",
            "                                                                 \n",
            " dense_1 (Dense)             (None, 256)               172288    \n",
            "                                                                 \n",
            " dense_2 (Dense)             (None, 10)                2570      \n",
            "                                                                 \n",
            "=================================================================\n",
            "Total params: 702378 (2.68 MB)\n",
            "Trainable params: 702378 (2.68 MB)\n",
            "Non-trainable params: 0 (0.00 Byte)\n",
            "_________________________________________________________________\n",
            "313/313 [==============================] - 1s 3ms/step - loss: 0.3997 - accuracy: 0.8564\n"
          ]
        },
        {
          "output_type": "execute_result",
          "data": {
            "text/plain": [
              "[0.3997249901294708, 0.8564000129699707]"
            ]
          },
          "metadata": {},
          "execution_count": 24
        }
      ]
    },
    {
      "cell_type": "code",
      "source": [
        "# Add layers in our model\n",
        "def big_model(hp):\n",
        "    model = Sequential()\n",
        "    # Activation choice\n",
        "    activation_choise = hp.Choice('activation',\n",
        "                                  values=['relu', 'sigmoid', 'tanh', 'elu', 'selu'])\n",
        "    model.add(Dense(units=hp.Int('units_input',\n",
        "                                   min_value=512,\n",
        "                                   max_value=1024,\n",
        "                                   step=32),\n",
        "                    input_dim=784,\n",
        "                    activation=activation_choise))\n",
        "    # Add hidden layers\n",
        "    for layer in range(hp.Int('num_layers', 2, 5)):\n",
        "        model.add(Dense(units=hp.Int('units_hidden',\n",
        "                                    min_value=128,\n",
        "                                    max_value=600,\n",
        "                                    step=32),\n",
        "                          activation=activation_choise))\n",
        "    model.add(Dense(10, activation='softmax'))\n",
        "    model.compile(optimizer=hp.Choice('optimizer', values=['adam', 'rmsprop', 'SGD']),\n",
        "                  loss='categorical_crossentropy',\n",
        "                  metrics=['accuracy'])\n",
        "    return model"
      ],
      "metadata": {
        "id": "gRpDxY3nU0cu"
      },
      "execution_count": 25,
      "outputs": []
    },
    {
      "cell_type": "markdown",
      "source": [
        "# Last model helps to even set quantity of hidden layers"
      ],
      "metadata": {
        "id": "iNXYMTTNVRDx"
      }
    }
  ]
}
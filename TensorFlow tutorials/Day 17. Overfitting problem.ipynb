{
 "cells": [
  {
   "cell_type": "code",
   "execution_count": 1,
   "id": "2bc30fce",
   "metadata": {},
   "outputs": [],
   "source": [
    "# Previos code\n",
    "from tensorflow.keras.datasets import fashion_mnist\n",
    "from tensorflow.keras.models import Sequential\n",
    "from tensorflow.keras.layers import Dense\n",
    "from tensorflow.keras import utils\n",
    "\n",
    "\n",
    "(x_train, y_train), (x_test, y_test) = fashion_mnist.load_data()\n",
    "x_train = x_train.reshape(60000, 784)\n",
    "x_test = x_test.reshape(10000, 784)\n",
    "\n",
    "x_train = x_train.astype('float32') / 255\n",
    "x_test = x_test.astype('float32') / 255\n",
    "\n",
    "y_train = utils.to_categorical(y=y_train, num_classes=10)\n",
    "y_test = utils.to_categorical(y=y_test, num_classes=10)\n",
    "\n",
    "\n",
    "classes = ['T-shirt/Top', 'Trouser', 'Pullover', 'Dress', 'Coat', 'Sandals', 'Shirt', 'Sneaker', 'Bag', 'Ankle boots']\n",
    "\n",
    "model = Sequential()\n",
    "model.add(layer=Dense(units=800, activation='relu', input_dim=784))\n",
    "model.add(layer=Dense(units=10, activation='softmax'))\n",
    "model.compile(optimizer='SGD', loss='categorical_crossentropy', metrics=['accuracy'])"
   ]
  },
  {
   "cell_type": "code",
   "execution_count": 2,
   "id": "d7c731a8",
   "metadata": {},
   "outputs": [
    {
     "name": "stdout",
     "output_type": "stream",
     "text": [
      "Epoch 1/100\n",
      "240/240 [==============================] - 3s 10ms/step - loss: 1.2152 - accuracy: 0.6442 - val_loss: 0.8428 - val_accuracy: 0.7446\n",
      "Epoch 2/100\n",
      "240/240 [==============================] - 2s 9ms/step - loss: 0.7674 - accuracy: 0.7625 - val_loss: 0.7012 - val_accuracy: 0.7779\n",
      "Epoch 3/100\n",
      "240/240 [==============================] - 3s 11ms/step - loss: 0.6699 - accuracy: 0.7882 - val_loss: 0.6344 - val_accuracy: 0.7957\n",
      "Epoch 4/100\n",
      "240/240 [==============================] - 3s 13ms/step - loss: 0.6164 - accuracy: 0.8029 - val_loss: 0.5933 - val_accuracy: 0.8076\n",
      "Epoch 5/100\n",
      "240/240 [==============================] - 2s 10ms/step - loss: 0.5814 - accuracy: 0.8125 - val_loss: 0.5683 - val_accuracy: 0.8113\n",
      "Epoch 6/100\n",
      "240/240 [==============================] - 2s 10ms/step - loss: 0.5558 - accuracy: 0.8200 - val_loss: 0.5452 - val_accuracy: 0.8191\n",
      "Epoch 7/100\n",
      "240/240 [==============================] - 3s 12ms/step - loss: 0.5361 - accuracy: 0.8253 - val_loss: 0.5294 - val_accuracy: 0.8223\n",
      "Epoch 8/100\n",
      "240/240 [==============================] - 4s 16ms/step - loss: 0.5202 - accuracy: 0.8294 - val_loss: 0.5160 - val_accuracy: 0.8257\n",
      "Epoch 9/100\n",
      "240/240 [==============================] - 3s 12ms/step - loss: 0.5076 - accuracy: 0.8326 - val_loss: 0.5089 - val_accuracy: 0.8250\n",
      "Epoch 10/100\n",
      "240/240 [==============================] - 3s 14ms/step - loss: 0.4971 - accuracy: 0.8358 - val_loss: 0.4984 - val_accuracy: 0.8293\n",
      "Epoch 11/100\n",
      "240/240 [==============================] - 3s 14ms/step - loss: 0.4881 - accuracy: 0.8388 - val_loss: 0.4875 - val_accuracy: 0.8319\n",
      "Epoch 12/100\n",
      "240/240 [==============================] - 3s 14ms/step - loss: 0.4795 - accuracy: 0.8396 - val_loss: 0.4834 - val_accuracy: 0.8335\n",
      "Epoch 13/100\n",
      "240/240 [==============================] - 3s 12ms/step - loss: 0.4724 - accuracy: 0.8418 - val_loss: 0.4747 - val_accuracy: 0.8376\n",
      "Epoch 14/100\n",
      "240/240 [==============================] - 3s 11ms/step - loss: 0.4660 - accuracy: 0.8443 - val_loss: 0.4697 - val_accuracy: 0.8381\n",
      "Epoch 15/100\n",
      "240/240 [==============================] - 2s 10ms/step - loss: 0.4607 - accuracy: 0.8453 - val_loss: 0.4642 - val_accuracy: 0.8409\n",
      "Epoch 16/100\n",
      "240/240 [==============================] - 3s 11ms/step - loss: 0.4551 - accuracy: 0.8476 - val_loss: 0.4638 - val_accuracy: 0.8403\n",
      "Epoch 17/100\n",
      "240/240 [==============================] - 2s 10ms/step - loss: 0.4506 - accuracy: 0.8477 - val_loss: 0.4558 - val_accuracy: 0.8441\n",
      "Epoch 18/100\n",
      "240/240 [==============================] - 3s 11ms/step - loss: 0.4458 - accuracy: 0.8494 - val_loss: 0.4523 - val_accuracy: 0.8432\n",
      "Epoch 19/100\n",
      "240/240 [==============================] - 2s 9ms/step - loss: 0.4418 - accuracy: 0.8510 - val_loss: 0.4499 - val_accuracy: 0.8454\n",
      "Epoch 20/100\n",
      "240/240 [==============================] - 3s 11ms/step - loss: 0.4378 - accuracy: 0.8513 - val_loss: 0.4483 - val_accuracy: 0.8457\n",
      "Epoch 21/100\n",
      "240/240 [==============================] - 2s 10ms/step - loss: 0.4343 - accuracy: 0.8527 - val_loss: 0.4488 - val_accuracy: 0.8428\n",
      "Epoch 22/100\n",
      "240/240 [==============================] - 2s 10ms/step - loss: 0.4307 - accuracy: 0.8536 - val_loss: 0.4389 - val_accuracy: 0.8480\n",
      "Epoch 23/100\n",
      "240/240 [==============================] - 2s 10ms/step - loss: 0.4275 - accuracy: 0.8547 - val_loss: 0.4362 - val_accuracy: 0.8501\n",
      "Epoch 24/100\n",
      "240/240 [==============================] - 2s 9ms/step - loss: 0.4241 - accuracy: 0.8553 - val_loss: 0.4327 - val_accuracy: 0.8497\n",
      "Epoch 25/100\n",
      "240/240 [==============================] - 2s 10ms/step - loss: 0.4219 - accuracy: 0.8565 - val_loss: 0.4313 - val_accuracy: 0.8512\n",
      "Epoch 26/100\n",
      "240/240 [==============================] - 3s 11ms/step - loss: 0.4186 - accuracy: 0.8579 - val_loss: 0.4338 - val_accuracy: 0.8492\n",
      "Epoch 27/100\n",
      "240/240 [==============================] - 3s 14ms/step - loss: 0.4160 - accuracy: 0.8584 - val_loss: 0.4257 - val_accuracy: 0.8526\n",
      "Epoch 28/100\n",
      "240/240 [==============================] - 4s 17ms/step - loss: 0.4133 - accuracy: 0.8597 - val_loss: 0.4235 - val_accuracy: 0.8537\n",
      "Epoch 29/100\n",
      "240/240 [==============================] - 3s 13ms/step - loss: 0.4104 - accuracy: 0.8609 - val_loss: 0.4271 - val_accuracy: 0.8507\n",
      "Epoch 30/100\n",
      " 18/240 [=>............................] - ETA: 2s - loss: 0.4022 - accuracy: 0.8631"
     ]
    }
   ],
   "source": [
    "# Train the model\n",
    "model.fit(\n",
    "    x=x_train,\n",
    "    y=y_train,\n",
    "    batch_size=200,\n",
    "    epochs=100,\n",
    "    validation_split=0.2,\n",
    "    verbose=1\n",
    ")"
   ]
  },
  {
   "cell_type": "code",
   "execution_count": 3,
   "id": "18cb2413",
   "metadata": {},
   "outputs": [],
   "source": [
    "# Evaluate the model\n",
    "model.evaluate(x=x_test, y=y_test, verbose=1)"
   ]
  },
  {
   "cell_type": "code",
   "execution_count": 4,
   "id": "b7f7ea8f",
   "metadata": {},
   "outputs": [],
   "source": [
    "# Save the model\n",
    "model.save('fashion_mnist_dense.h5')"
   ]
  },
  {
   "cell_type": "code",
   "execution_count": 5,
   "id": "798f94f7",
   "metadata": {},
   "outputs": [],
   "source": [
    "model.save(filepath='my_model.keras')"
   ]
  },
  {
   "cell_type": "code",
   "execution_count": 6,
   "id": "4260779c",
   "metadata": {},
   "outputs": [],
   "source": [
    "# Load the model\n",
    "from tensorflow.keras.models import load_model\n",
    "\n",
    "model = load_model('my_model.keras')"
   ]
  },
  {
   "cell_type": "code",
   "execution_count": 7,
   "id": "d7b4e356",
   "metadata": {},
   "outputs": [],
   "source": [
    "# Save and load only weights\n",
    "model.save_weights('fashion_mnist_weights.keras')\n",
    "model.load_weights('fashion_mnist_weights.keras')"
   ]
  },
  {
   "cell_type": "code",
   "execution_count": 8,
   "id": "276dd84c",
   "metadata": {},
   "outputs": [],
   "source": [
    "# Save and load only architecture in JSON format\n",
    "from tensorflow.keras.models import model_from_json\n",
    "\n",
    "json_model = model.to_json()\n",
    "model = model_from_json(json_model)"
   ]
  },
  {
   "cell_type": "code",
   "execution_count": 9,
   "id": "bd17dafb",
   "metadata": {},
   "outputs": [],
   "source": [
    "json_model"
   ]
  }
 ],
 "metadata": {
  "kernelspec": {
   "display_name": "Python 3 (ipykernel)",
   "language": "python",
   "name": "python3"
  },
  "language_info": {
   "codemirror_mode": {
    "name": "ipython",
    "version": 3
   },
   "file_extension": ".py",
   "mimetype": "text/x-python",
   "name": "python",
   "nbconvert_exporter": "python",
   "pygments_lexer": "ipython3",
   "version": "3.11.4"
  }
 },
 "nbformat": 4,
 "nbformat_minor": 5
}

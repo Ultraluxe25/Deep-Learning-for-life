{
 "cells": [
  {
   "cell_type": "code",
   "execution_count": 1,
   "id": "2bc30fce",
   "metadata": {},
   "outputs": [],
   "source": [
    "# Previos code\n",
    "from tensorflow.keras.datasets import fashion_mnist\n",
    "from tensorflow.keras.models import Sequential\n",
    "from tensorflow.keras.layers import Dense\n",
    "from tensorflow.keras import utils\n",
    "\n",
    "\n",
    "(x_train, y_train), (x_test, y_test) = fashion_mnist.load_data()\n",
    "x_train = x_train.reshape(60000, 784)\n",
    "x_test = x_test.reshape(10000, 784)\n",
    "\n",
    "x_train = x_train.astype('float32') / 255\n",
    "x_test = x_test.astype('float32') / 255\n",
    "\n",
    "y_train = utils.to_categorical(y=y_train, num_classes=10)\n",
    "y_test = utils.to_categorical(y=y_test, num_classes=10)\n",
    "\n",
    "\n",
    "classes = ['T-shirt/Top', 'Trouser', 'Pullover', 'Dress', 'Coat', 'Sandals', 'Shirt', 'Sneaker', 'Bag', 'Ankle boots']\n",
    "\n",
    "model = Sequential()\n",
    "model.add(layer=Dense(units=800, activation='relu', input_dim=784))\n",
    "model.add(layer=Dense(units=10, activation='softmax'))\n",
    "model.compile(optimizer='SGD', loss='categorical_crossentropy', metrics=['accuracy'])"
   ]
  },
  {
   "cell_type": "code",
   "execution_count": 2,
   "id": "d7c731a8",
   "metadata": {},
   "outputs": [
    {
     "name": "stdout",
     "output_type": "stream",
     "text": [
      "Epoch 1/100\n",
      "240/240 [==============================] - 3s 11ms/step - loss: 1.1899 - accuracy: 0.6555 - val_loss: 0.8361 - val_accuracy: 0.7445\n",
      "Epoch 2/100\n",
      "240/240 [==============================] - 3s 12ms/step - loss: 0.7602 - accuracy: 0.7647 - val_loss: 0.6962 - val_accuracy: 0.7788\n",
      "Epoch 3/100\n",
      "240/240 [==============================] - 3s 13ms/step - loss: 0.6633 - accuracy: 0.7919 - val_loss: 0.6293 - val_accuracy: 0.7971\n",
      "Epoch 4/100\n",
      "240/240 [==============================] - 3s 11ms/step - loss: 0.6111 - accuracy: 0.8059 - val_loss: 0.5906 - val_accuracy: 0.8058\n",
      "Epoch 5/100\n",
      "240/240 [==============================] - 3s 14ms/step - loss: 0.5768 - accuracy: 0.8146 - val_loss: 0.5633 - val_accuracy: 0.8149\n",
      "Epoch 6/100\n",
      "240/240 [==============================] - 3s 12ms/step - loss: 0.5519 - accuracy: 0.8207 - val_loss: 0.5424 - val_accuracy: 0.8210\n",
      "Epoch 7/100\n",
      "240/240 [==============================] - 3s 11ms/step - loss: 0.5328 - accuracy: 0.8249 - val_loss: 0.5291 - val_accuracy: 0.8220\n",
      "Epoch 8/100\n",
      "240/240 [==============================] - 2s 9ms/step - loss: 0.5172 - accuracy: 0.8298 - val_loss: 0.5158 - val_accuracy: 0.8246\n",
      "Epoch 9/100\n",
      "240/240 [==============================] - 3s 11ms/step - loss: 0.5048 - accuracy: 0.8325 - val_loss: 0.5050 - val_accuracy: 0.8280\n",
      "Epoch 10/100\n",
      "240/240 [==============================] - 3s 11ms/step - loss: 0.4942 - accuracy: 0.8359 - val_loss: 0.4948 - val_accuracy: 0.8331\n",
      "Epoch 11/100\n",
      "240/240 [==============================] - 3s 13ms/step - loss: 0.4850 - accuracy: 0.8388 - val_loss: 0.4872 - val_accuracy: 0.8329\n",
      "Epoch 12/100\n",
      "240/240 [==============================] - 3s 12ms/step - loss: 0.4771 - accuracy: 0.8406 - val_loss: 0.4804 - val_accuracy: 0.8354\n",
      "Epoch 13/100\n",
      "240/240 [==============================] - 2s 9ms/step - loss: 0.4702 - accuracy: 0.8417 - val_loss: 0.4795 - val_accuracy: 0.8332\n",
      "Epoch 14/100\n",
      "240/240 [==============================] - 2s 9ms/step - loss: 0.4637 - accuracy: 0.8444 - val_loss: 0.4708 - val_accuracy: 0.8379\n",
      "Epoch 15/100\n",
      "240/240 [==============================] - 2s 8ms/step - loss: 0.4578 - accuracy: 0.8456 - val_loss: 0.4634 - val_accuracy: 0.8417\n",
      "Epoch 16/100\n",
      "240/240 [==============================] - 2s 8ms/step - loss: 0.4530 - accuracy: 0.8475 - val_loss: 0.4604 - val_accuracy: 0.8413\n",
      "Epoch 17/100\n",
      "240/240 [==============================] - 2s 8ms/step - loss: 0.4478 - accuracy: 0.8496 - val_loss: 0.4561 - val_accuracy: 0.8423\n",
      "Epoch 18/100\n",
      "240/240 [==============================] - 2s 8ms/step - loss: 0.4436 - accuracy: 0.8505 - val_loss: 0.4510 - val_accuracy: 0.8436\n",
      "Epoch 19/100\n",
      "240/240 [==============================] - 2s 8ms/step - loss: 0.4394 - accuracy: 0.8518 - val_loss: 0.4486 - val_accuracy: 0.8448\n",
      "Epoch 20/100\n",
      "240/240 [==============================] - 2s 8ms/step - loss: 0.4357 - accuracy: 0.8521 - val_loss: 0.4452 - val_accuracy: 0.8460\n",
      "Epoch 21/100\n",
      "240/240 [==============================] - 2s 9ms/step - loss: 0.4318 - accuracy: 0.8526 - val_loss: 0.4431 - val_accuracy: 0.8473\n",
      "Epoch 22/100\n",
      "240/240 [==============================] - 2s 10ms/step - loss: 0.4281 - accuracy: 0.8545 - val_loss: 0.4377 - val_accuracy: 0.8478\n",
      "Epoch 23/100\n",
      "240/240 [==============================] - 3s 14ms/step - loss: 0.4250 - accuracy: 0.8553 - val_loss: 0.4387 - val_accuracy: 0.8461\n",
      "Epoch 24/100\n",
      "240/240 [==============================] - 3s 13ms/step - loss: 0.4215 - accuracy: 0.8560 - val_loss: 0.4339 - val_accuracy: 0.8504\n",
      "Epoch 25/100\n",
      "240/240 [==============================] - 4s 16ms/step - loss: 0.4187 - accuracy: 0.8585 - val_loss: 0.4298 - val_accuracy: 0.8491\n",
      "Epoch 26/100\n",
      "240/240 [==============================] - 4s 17ms/step - loss: 0.4159 - accuracy: 0.8584 - val_loss: 0.4275 - val_accuracy: 0.8513\n",
      "Epoch 27/100\n",
      "240/240 [==============================] - 4s 18ms/step - loss: 0.4129 - accuracy: 0.8595 - val_loss: 0.4241 - val_accuracy: 0.8516\n",
      "Epoch 28/100\n",
      "240/240 [==============================] - 4s 16ms/step - loss: 0.4107 - accuracy: 0.8596 - val_loss: 0.4256 - val_accuracy: 0.8537\n",
      "Epoch 29/100\n",
      "240/240 [==============================] - 4s 16ms/step - loss: 0.4082 - accuracy: 0.8598 - val_loss: 0.4203 - val_accuracy: 0.8530\n",
      "Epoch 30/100\n",
      "240/240 [==============================] - 3s 14ms/step - loss: 0.4055 - accuracy: 0.8613 - val_loss: 0.4199 - val_accuracy: 0.8552\n",
      "Epoch 31/100\n",
      "240/240 [==============================] - 3s 13ms/step - loss: 0.4031 - accuracy: 0.8627 - val_loss: 0.4174 - val_accuracy: 0.8544\n",
      "Epoch 32/100\n",
      "240/240 [==============================] - 3s 13ms/step - loss: 0.4011 - accuracy: 0.8633 - val_loss: 0.4151 - val_accuracy: 0.8552\n",
      "Epoch 33/100\n",
      "240/240 [==============================] - 3s 13ms/step - loss: 0.3989 - accuracy: 0.8635 - val_loss: 0.4132 - val_accuracy: 0.8565\n",
      "Epoch 34/100\n",
      "240/240 [==============================] - 3s 13ms/step - loss: 0.3966 - accuracy: 0.8652 - val_loss: 0.4121 - val_accuracy: 0.8577\n",
      "Epoch 35/100\n",
      "240/240 [==============================] - 3s 11ms/step - loss: 0.3947 - accuracy: 0.8648 - val_loss: 0.4106 - val_accuracy: 0.8557\n",
      "Epoch 36/100\n",
      "240/240 [==============================] - 3s 11ms/step - loss: 0.3923 - accuracy: 0.8661 - val_loss: 0.4077 - val_accuracy: 0.8576\n",
      "Epoch 37/100\n",
      "240/240 [==============================] - 3s 11ms/step - loss: 0.3906 - accuracy: 0.8668 - val_loss: 0.4058 - val_accuracy: 0.8594\n",
      "Epoch 38/100\n",
      "240/240 [==============================] - 3s 13ms/step - loss: 0.3884 - accuracy: 0.8675 - val_loss: 0.4045 - val_accuracy: 0.8596\n",
      "Epoch 39/100\n",
      "240/240 [==============================] - 2s 10ms/step - loss: 0.3868 - accuracy: 0.8679 - val_loss: 0.4064 - val_accuracy: 0.8581\n",
      "Epoch 40/100\n",
      "240/240 [==============================] - 3s 13ms/step - loss: 0.3850 - accuracy: 0.8684 - val_loss: 0.4034 - val_accuracy: 0.8605\n",
      "Epoch 41/100\n",
      "240/240 [==============================] - 3s 12ms/step - loss: 0.3833 - accuracy: 0.8689 - val_loss: 0.4001 - val_accuracy: 0.8616\n",
      "Epoch 42/100\n",
      "240/240 [==============================] - 3s 12ms/step - loss: 0.3814 - accuracy: 0.8701 - val_loss: 0.3994 - val_accuracy: 0.8602\n",
      "Epoch 43/100\n",
      "240/240 [==============================] - 3s 12ms/step - loss: 0.3799 - accuracy: 0.8705 - val_loss: 0.3982 - val_accuracy: 0.8607\n",
      "Epoch 44/100\n",
      "240/240 [==============================] - 2s 10ms/step - loss: 0.3780 - accuracy: 0.8709 - val_loss: 0.3960 - val_accuracy: 0.8621\n",
      "Epoch 45/100\n",
      "240/240 [==============================] - 2s 10ms/step - loss: 0.3761 - accuracy: 0.8709 - val_loss: 0.3952 - val_accuracy: 0.8622\n",
      "Epoch 46/100\n",
      "240/240 [==============================] - 2s 10ms/step - loss: 0.3751 - accuracy: 0.8720 - val_loss: 0.3959 - val_accuracy: 0.8622\n",
      "Epoch 47/100\n",
      "240/240 [==============================] - 2s 9ms/step - loss: 0.3732 - accuracy: 0.8725 - val_loss: 0.3959 - val_accuracy: 0.8609\n",
      "Epoch 48/100\n",
      "240/240 [==============================] - 2s 10ms/step - loss: 0.3716 - accuracy: 0.8720 - val_loss: 0.3921 - val_accuracy: 0.8631\n",
      "Epoch 49/100\n",
      "240/240 [==============================] - 2s 9ms/step - loss: 0.3703 - accuracy: 0.8734 - val_loss: 0.3914 - val_accuracy: 0.8641\n",
      "Epoch 50/100\n",
      "240/240 [==============================] - 2s 9ms/step - loss: 0.3686 - accuracy: 0.8735 - val_loss: 0.3897 - val_accuracy: 0.8627\n",
      "Epoch 51/100\n",
      "240/240 [==============================] - 2s 9ms/step - loss: 0.3673 - accuracy: 0.8740 - val_loss: 0.3953 - val_accuracy: 0.8618\n",
      "Epoch 52/100\n",
      "240/240 [==============================] - 2s 9ms/step - loss: 0.3655 - accuracy: 0.8751 - val_loss: 0.3870 - val_accuracy: 0.8656\n",
      "Epoch 53/100\n",
      "240/240 [==============================] - 2s 10ms/step - loss: 0.3645 - accuracy: 0.8750 - val_loss: 0.3871 - val_accuracy: 0.8655\n",
      "Epoch 54/100\n",
      "240/240 [==============================] - 2s 9ms/step - loss: 0.3632 - accuracy: 0.8759 - val_loss: 0.3858 - val_accuracy: 0.8660\n",
      "Epoch 55/100\n",
      "240/240 [==============================] - 2s 9ms/step - loss: 0.3615 - accuracy: 0.8764 - val_loss: 0.3839 - val_accuracy: 0.8657\n",
      "Epoch 56/100\n",
      "240/240 [==============================] - 2s 10ms/step - loss: 0.3602 - accuracy: 0.8767 - val_loss: 0.3893 - val_accuracy: 0.8651\n",
      "Epoch 57/100\n",
      "240/240 [==============================] - 3s 11ms/step - loss: 0.3591 - accuracy: 0.8766 - val_loss: 0.3827 - val_accuracy: 0.8659\n",
      "Epoch 58/100\n",
      "240/240 [==============================] - 2s 10ms/step - loss: 0.3578 - accuracy: 0.8771 - val_loss: 0.3820 - val_accuracy: 0.8677\n",
      "Epoch 59/100\n",
      "240/240 [==============================] - 2s 10ms/step - loss: 0.3562 - accuracy: 0.8783 - val_loss: 0.3819 - val_accuracy: 0.8662\n",
      "Epoch 60/100\n",
      "240/240 [==============================] - 2s 9ms/step - loss: 0.3553 - accuracy: 0.8786 - val_loss: 0.3802 - val_accuracy: 0.8677\n",
      "Epoch 61/100\n",
      "240/240 [==============================] - 2s 9ms/step - loss: 0.3541 - accuracy: 0.8781 - val_loss: 0.3786 - val_accuracy: 0.8679\n",
      "Epoch 62/100\n",
      "240/240 [==============================] - 2s 8ms/step - loss: 0.3532 - accuracy: 0.8786 - val_loss: 0.3787 - val_accuracy: 0.8664\n",
      "Epoch 63/100\n",
      "240/240 [==============================] - 2s 8ms/step - loss: 0.3514 - accuracy: 0.8795 - val_loss: 0.3775 - val_accuracy: 0.8681\n",
      "Epoch 64/100\n",
      "240/240 [==============================] - 2s 9ms/step - loss: 0.3505 - accuracy: 0.8789 - val_loss: 0.3786 - val_accuracy: 0.8673\n",
      "Epoch 65/100\n",
      "240/240 [==============================] - 2s 9ms/step - loss: 0.3490 - accuracy: 0.8805 - val_loss: 0.3754 - val_accuracy: 0.8684\n",
      "Epoch 66/100\n",
      "240/240 [==============================] - 2s 9ms/step - loss: 0.3481 - accuracy: 0.8802 - val_loss: 0.3740 - val_accuracy: 0.8683\n",
      "Epoch 67/100\n",
      "240/240 [==============================] - 2s 9ms/step - loss: 0.3468 - accuracy: 0.8802 - val_loss: 0.3764 - val_accuracy: 0.8672\n",
      "Epoch 68/100\n",
      "240/240 [==============================] - 2s 9ms/step - loss: 0.3459 - accuracy: 0.8812 - val_loss: 0.3745 - val_accuracy: 0.8685\n",
      "Epoch 69/100\n",
      "240/240 [==============================] - 3s 11ms/step - loss: 0.3447 - accuracy: 0.8815 - val_loss: 0.3771 - val_accuracy: 0.8686\n",
      "Epoch 70/100\n",
      "240/240 [==============================] - 2s 10ms/step - loss: 0.3435 - accuracy: 0.8817 - val_loss: 0.3724 - val_accuracy: 0.8704\n",
      "Epoch 71/100\n",
      "240/240 [==============================] - 2s 8ms/step - loss: 0.3427 - accuracy: 0.8823 - val_loss: 0.3766 - val_accuracy: 0.8686\n",
      "Epoch 72/100\n",
      "240/240 [==============================] - 2s 8ms/step - loss: 0.3415 - accuracy: 0.8825 - val_loss: 0.3706 - val_accuracy: 0.8709\n",
      "Epoch 73/100\n",
      "240/240 [==============================] - 2s 9ms/step - loss: 0.3408 - accuracy: 0.8831 - val_loss: 0.3693 - val_accuracy: 0.8691\n",
      "Epoch 74/100\n",
      "240/240 [==============================] - 2s 8ms/step - loss: 0.3394 - accuracy: 0.8823 - val_loss: 0.3723 - val_accuracy: 0.8689\n",
      "Epoch 75/100\n",
      "240/240 [==============================] - 2s 8ms/step - loss: 0.3387 - accuracy: 0.8830 - val_loss: 0.3675 - val_accuracy: 0.8712\n",
      "Epoch 76/100\n",
      "240/240 [==============================] - 2s 8ms/step - loss: 0.3375 - accuracy: 0.8831 - val_loss: 0.3673 - val_accuracy: 0.8714\n",
      "Epoch 77/100\n",
      "240/240 [==============================] - 2s 8ms/step - loss: 0.3365 - accuracy: 0.8834 - val_loss: 0.3674 - val_accuracy: 0.8717\n",
      "Epoch 78/100\n",
      "240/240 [==============================] - 2s 9ms/step - loss: 0.3356 - accuracy: 0.8838 - val_loss: 0.3671 - val_accuracy: 0.8706\n",
      "Epoch 79/100\n",
      "240/240 [==============================] - 2s 9ms/step - loss: 0.3345 - accuracy: 0.8843 - val_loss: 0.3664 - val_accuracy: 0.8734\n",
      "Epoch 80/100\n",
      "240/240 [==============================] - 2s 10ms/step - loss: 0.3332 - accuracy: 0.8848 - val_loss: 0.3680 - val_accuracy: 0.8704\n",
      "Epoch 81/100\n",
      "240/240 [==============================] - 3s 11ms/step - loss: 0.3322 - accuracy: 0.8857 - val_loss: 0.3687 - val_accuracy: 0.8712\n",
      "Epoch 82/100\n",
      "240/240 [==============================] - 3s 12ms/step - loss: 0.3316 - accuracy: 0.8859 - val_loss: 0.3664 - val_accuracy: 0.8712\n",
      "Epoch 83/100\n",
      "240/240 [==============================] - 3s 12ms/step - loss: 0.3306 - accuracy: 0.8857 - val_loss: 0.3639 - val_accuracy: 0.8721\n",
      "Epoch 84/100\n",
      "240/240 [==============================] - 3s 12ms/step - loss: 0.3297 - accuracy: 0.8860 - val_loss: 0.3616 - val_accuracy: 0.8742\n",
      "Epoch 85/100\n",
      "240/240 [==============================] - 3s 11ms/step - loss: 0.3287 - accuracy: 0.8859 - val_loss: 0.3606 - val_accuracy: 0.8744\n",
      "Epoch 86/100\n",
      "240/240 [==============================] - 3s 13ms/step - loss: 0.3280 - accuracy: 0.8859 - val_loss: 0.3618 - val_accuracy: 0.8742\n",
      "Epoch 87/100\n",
      "240/240 [==============================] - 3s 11ms/step - loss: 0.3269 - accuracy: 0.8873 - val_loss: 0.3613 - val_accuracy: 0.8737\n",
      "Epoch 88/100\n",
      "240/240 [==============================] - 2s 10ms/step - loss: 0.3257 - accuracy: 0.8867 - val_loss: 0.3603 - val_accuracy: 0.8728\n",
      "Epoch 89/100\n",
      "240/240 [==============================] - 2s 9ms/step - loss: 0.3254 - accuracy: 0.8867 - val_loss: 0.3629 - val_accuracy: 0.8735\n",
      "Epoch 90/100\n",
      "240/240 [==============================] - 2s 10ms/step - loss: 0.3238 - accuracy: 0.8886 - val_loss: 0.3583 - val_accuracy: 0.8753\n",
      "Epoch 91/100\n",
      "240/240 [==============================] - 2s 9ms/step - loss: 0.3237 - accuracy: 0.8878 - val_loss: 0.3578 - val_accuracy: 0.8748\n",
      "Epoch 92/100\n",
      "240/240 [==============================] - 3s 11ms/step - loss: 0.3228 - accuracy: 0.8883 - val_loss: 0.3619 - val_accuracy: 0.8719\n",
      "Epoch 93/100\n",
      "240/240 [==============================] - 3s 11ms/step - loss: 0.3213 - accuracy: 0.8891 - val_loss: 0.3594 - val_accuracy: 0.8742\n",
      "Epoch 94/100\n",
      "240/240 [==============================] - 2s 10ms/step - loss: 0.3208 - accuracy: 0.8886 - val_loss: 0.3571 - val_accuracy: 0.8755\n",
      "Epoch 95/100\n",
      "240/240 [==============================] - 3s 11ms/step - loss: 0.3201 - accuracy: 0.8892 - val_loss: 0.3564 - val_accuracy: 0.8763\n",
      "Epoch 96/100\n",
      "240/240 [==============================] - 3s 11ms/step - loss: 0.3191 - accuracy: 0.8888 - val_loss: 0.3560 - val_accuracy: 0.8758\n",
      "Epoch 97/100\n",
      "240/240 [==============================] - 3s 12ms/step - loss: 0.3183 - accuracy: 0.8903 - val_loss: 0.3560 - val_accuracy: 0.8756\n",
      "Epoch 98/100\n",
      "240/240 [==============================] - 3s 11ms/step - loss: 0.3176 - accuracy: 0.8900 - val_loss: 0.3558 - val_accuracy: 0.8747\n",
      "Epoch 99/100\n",
      "240/240 [==============================] - 2s 10ms/step - loss: 0.3167 - accuracy: 0.8901 - val_loss: 0.3556 - val_accuracy: 0.8750\n",
      "Epoch 100/100\n",
      "240/240 [==============================] - 3s 10ms/step - loss: 0.3156 - accuracy: 0.8912 - val_loss: 0.3531 - val_accuracy: 0.8762\n"
     ]
    },
    {
     "data": {
      "text/plain": [
       "<keras.src.callbacks.History at 0x20de0c6a490>"
      ]
     },
     "execution_count": 2,
     "metadata": {},
     "output_type": "execute_result"
    }
   ],
   "source": [
    "# Train the model\n",
    "model.fit(\n",
    "    x=x_train,\n",
    "    y=y_train,\n",
    "    batch_size=200,\n",
    "    epochs=100,\n",
    "    validation_split=0.2,\n",
    "    verbose=1\n",
    ")"
   ]
  },
  {
   "cell_type": "code",
   "execution_count": 3,
   "id": "18cb2413",
   "metadata": {},
   "outputs": [
    {
     "name": "stdout",
     "output_type": "stream",
     "text": [
      "313/313 [==============================] - 1s 4ms/step - loss: 0.3770 - accuracy: 0.8671\n"
     ]
    },
    {
     "data": {
      "text/plain": [
       "[0.37704381346702576, 0.8671000003814697]"
      ]
     },
     "execution_count": 3,
     "metadata": {},
     "output_type": "execute_result"
    }
   ],
   "source": [
    "# Evaluate the model\n",
    "model.evaluate(x=x_test, y=y_test, verbose=1)"
   ]
  },
  {
   "cell_type": "code",
   "execution_count": 4,
   "id": "b7f7ea8f",
   "metadata": {},
   "outputs": [
    {
     "name": "stderr",
     "output_type": "stream",
     "text": [
      "C:\\Python311\\Lib\\site-packages\\keras\\src\\engine\\training.py:3000: UserWarning: You are saving your model as an HDF5 file via `model.save()`. This file format is considered legacy. We recommend using instead the native Keras format, e.g. `model.save('my_model.keras')`.\n",
      "  saving_api.save_model(\n"
     ]
    }
   ],
   "source": [
    "# Save the model\n",
    "model.save('fashion_mnist_dense.h5')"
   ]
  },
  {
   "cell_type": "code",
   "execution_count": 5,
   "id": "798f94f7",
   "metadata": {},
   "outputs": [],
   "source": [
    "model.save(filepath='my_model.keras')"
   ]
  },
  {
   "cell_type": "code",
   "execution_count": 6,
   "id": "4260779c",
   "metadata": {},
   "outputs": [],
   "source": [
    "# Load the model\n",
    "from tensorflow.keras.models import load_model\n",
    "\n",
    "model = load_model('my_model.keras')"
   ]
  },
  {
   "cell_type": "code",
   "execution_count": 7,
   "id": "d7b4e356",
   "metadata": {},
   "outputs": [],
   "source": [
    "# Save and load only weights\n",
    "model.save_weights('fashion_mnist_weights.keras')\n",
    "model.load_weights('fashion_mnist_weights.keras')"
   ]
  },
  {
   "cell_type": "code",
   "execution_count": 8,
   "id": "276dd84c",
   "metadata": {},
   "outputs": [],
   "source": [
    "# Save and load only architecture in JSON format\n",
    "from tensorflow.keras.models import model_from_json\n",
    "\n",
    "json_model = model.to_json()\n",
    "model = model_from_json(json_model)"
   ]
  },
  {
   "cell_type": "code",
   "execution_count": 9,
   "id": "bd17dafb",
   "metadata": {},
   "outputs": [
    {
     "data": {
      "text/plain": [
       "'{\"class_name\": \"Sequential\", \"config\": {\"name\": \"sequential\", \"layers\": [{\"module\": \"keras.layers\", \"class_name\": \"InputLayer\", \"config\": {\"batch_input_shape\": [null, 784], \"dtype\": \"float32\", \"sparse\": false, \"ragged\": false, \"name\": \"dense_input\"}, \"registered_name\": null}, {\"module\": \"keras.layers\", \"class_name\": \"Dense\", \"config\": {\"name\": \"dense\", \"trainable\": true, \"dtype\": \"float32\", \"batch_input_shape\": [null, 784], \"units\": 800, \"activation\": \"relu\", \"use_bias\": true, \"kernel_initializer\": {\"module\": \"keras.initializers\", \"class_name\": \"GlorotUniform\", \"config\": {\"seed\": null}, \"registered_name\": null}, \"bias_initializer\": {\"module\": \"keras.initializers\", \"class_name\": \"Zeros\", \"config\": {}, \"registered_name\": null}, \"kernel_regularizer\": null, \"bias_regularizer\": null, \"activity_regularizer\": null, \"kernel_constraint\": null, \"bias_constraint\": null}, \"registered_name\": null, \"build_config\": {\"input_shape\": [null, 784]}}, {\"module\": \"keras.layers\", \"class_name\": \"Dense\", \"config\": {\"name\": \"dense_1\", \"trainable\": true, \"dtype\": \"float32\", \"units\": 10, \"activation\": \"softmax\", \"use_bias\": true, \"kernel_initializer\": {\"module\": \"keras.initializers\", \"class_name\": \"GlorotUniform\", \"config\": {\"seed\": null}, \"registered_name\": null}, \"bias_initializer\": {\"module\": \"keras.initializers\", \"class_name\": \"Zeros\", \"config\": {}, \"registered_name\": null}, \"kernel_regularizer\": null, \"bias_regularizer\": null, \"activity_regularizer\": null, \"kernel_constraint\": null, \"bias_constraint\": null}, \"registered_name\": null, \"build_config\": {\"input_shape\": [null, 800]}}]}, \"keras_version\": \"2.13.1\", \"backend\": \"tensorflow\"}'"
      ]
     },
     "execution_count": 9,
     "metadata": {},
     "output_type": "execute_result"
    }
   ],
   "source": [
    "json_model"
   ]
  }
 ],
 "metadata": {
  "kernelspec": {
   "display_name": "Python 3 (ipykernel)",
   "language": "python",
   "name": "python3"
  },
  "language_info": {
   "codemirror_mode": {
    "name": "ipython",
    "version": 3
   },
   "file_extension": ".py",
   "mimetype": "text/x-python",
   "name": "python",
   "nbconvert_exporter": "python",
   "pygments_lexer": "ipython3",
   "version": "3.11.4"
  }
 },
 "nbformat": 4,
 "nbformat_minor": 5
}

{
 "cells": [
  {
   "cell_type": "code",
   "execution_count": 1,
   "id": "55d6515d",
   "metadata": {},
   "outputs": [],
   "source": [
    "import torch"
   ]
  },
  {
   "cell_type": "code",
   "execution_count": 2,
   "id": "76ac4185",
   "metadata": {},
   "outputs": [
    {
     "data": {
      "text/plain": [
       "tensor([[ 1.,  2.,  3.,  4.],\n",
       "        [ 5.,  6.,  7.,  8.],\n",
       "        [ 9., 10., 11., 12.]], requires_grad=True)"
      ]
     },
     "execution_count": 2,
     "metadata": {},
     "output_type": "execute_result"
    }
   ],
   "source": [
    "x = torch.tensor(\n",
    "    [[1., 2., 3., 4.],\n",
    "     [5., 6., 7., 8.],\n",
    "     [9., 10., 11., 12.]],\n",
    "    requires_grad=True)\n",
    "x"
   ]
  },
  {
   "cell_type": "markdown",
   "id": "1de8a780",
   "metadata": {},
   "source": [
    "# [TORCH.TENSOR.REQUIRES_GRAD_](https://pytorch.org/docs/stable/generated/torch.Tensor.requires_grad_.html)"
   ]
  },
  {
   "cell_type": "code",
   "execution_count": 3,
   "id": "44bfeab0",
   "metadata": {},
   "outputs": [
    {
     "data": {
      "text/plain": [
       "device(type='cpu')"
      ]
     },
     "execution_count": 3,
     "metadata": {},
     "output_type": "execute_result"
    }
   ],
   "source": [
    "# Chech whether GPU is available\n",
    "device = torch.device('cuda:0' if torch.cuda.is_available() else 'cpu')\n",
    "device"
   ]
  },
  {
   "cell_type": "code",
   "execution_count": 4,
   "id": "3062c615",
   "metadata": {},
   "outputs": [
    {
     "data": {
      "text/plain": [
       "tensor([[ 1.,  2.,  3.,  4.],\n",
       "        [ 5.,  6.,  7.,  8.],\n",
       "        [ 9., 10., 11., 12.]], requires_grad=True)"
      ]
     },
     "execution_count": 4,
     "metadata": {},
     "output_type": "execute_result"
    }
   ],
   "source": [
    "x = x.to(device)\n",
    "x"
   ]
  },
  {
   "cell_type": "markdown",
   "id": "9975b383",
   "metadata": {},
   "source": [
    "# [TORCH.TENSOR.TO](https://pytorch.org/docs/stable/generated/torch.Tensor.requires_grad_.html)"
   ]
  },
  {
   "cell_type": "code",
   "execution_count": 5,
   "id": "013f23a8",
   "metadata": {},
   "outputs": [
    {
     "name": "stdout",
     "output_type": "stream",
     "text": [
      "tensor([[ 20.,  40.,  60.,  80.],\n",
      "        [100., 120., 140., 160.],\n",
      "        [180., 200., 220., 240.]]) <- gradient\n"
     ]
    }
   ],
   "source": [
    "function = 10 * (x ** 2).sum()\n",
    "function.backward()\n",
    "print(x.grad, '<- gradient')"
   ]
  },
  {
   "cell_type": "markdown",
   "id": "de5029a7",
   "metadata": {},
   "source": [
    "# [TORCH.TENSOR.BACKWARD](https://pytorch.org/docs/stable/generated/torch.Tensor.backward.html)"
   ]
  },
  {
   "cell_type": "code",
   "execution_count": 8,
   "id": "195ea83d",
   "metadata": {},
   "outputs": [
    {
     "name": "stdout",
     "output_type": "stream",
     "text": [
      "<MulBackward0 object at 0x00000227E1430F10>\n",
      "<SumBackward0 object at 0x00000227F8089780>\n"
     ]
    }
   ],
   "source": [
    "# Last and pre-last operations\n",
    "print(function.grad_fn)\n",
    "print(function.grad_fn.next_functions[0][0])"
   ]
  }
 ],
 "metadata": {
  "kernelspec": {
   "display_name": "Python 3 (ipykernel)",
   "language": "python",
   "name": "python3"
  },
  "language_info": {
   "codemirror_mode": {
    "name": "ipython",
    "version": 3
   },
   "file_extension": ".py",
   "mimetype": "text/x-python",
   "name": "python",
   "nbconvert_exporter": "python",
   "pygments_lexer": "ipython3",
   "version": "3.11.4"
  }
 },
 "nbformat": 4,
 "nbformat_minor": 5
}

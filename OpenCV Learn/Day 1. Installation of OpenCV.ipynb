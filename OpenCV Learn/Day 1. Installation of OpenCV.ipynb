{
 "cells": [
  {
   "cell_type": "code",
   "execution_count": 1,
   "id": "a970deec",
   "metadata": {},
   "outputs": [
    {
     "name": "stdout",
     "output_type": "stream",
     "text": [
      "Requirement already satisfied: opencv-python in c:\\python311\\lib\\site-packages (4.8.0.74)\n",
      "Requirement already satisfied: numpy>=1.21.2 in c:\\python311\\lib\\site-packages (from opencv-python) (1.24.3)\n"
     ]
    }
   ],
   "source": [
    "# Install OpenCV for computer vision\n",
    "!pip install opencv-python"
   ]
  },
  {
   "cell_type": "code",
   "execution_count": 2,
   "id": "a9542dfa",
   "metadata": {},
   "outputs": [],
   "source": [
    "# Import libraries\n",
    "import cv2 as cv"
   ]
  },
  {
   "cell_type": "code",
   "execution_count": 3,
   "id": "5632b615",
   "metadata": {},
   "outputs": [
    {
     "data": {
      "text/plain": [
       "array([[[32, 34, 42],\n",
       "        [31, 33, 41],\n",
       "        [30, 32, 40],\n",
       "        ...,\n",
       "        [45, 44, 46],\n",
       "        [43, 42, 44],\n",
       "        [41, 40, 42]],\n",
       "\n",
       "       [[31, 33, 41],\n",
       "        [30, 32, 40],\n",
       "        [29, 31, 39],\n",
       "        ...,\n",
       "        [45, 44, 46],\n",
       "        [44, 43, 45],\n",
       "        [43, 42, 44]],\n",
       "\n",
       "       [[30, 32, 40],\n",
       "        [29, 31, 39],\n",
       "        [30, 32, 40],\n",
       "        ...,\n",
       "        [47, 46, 48],\n",
       "        [46, 45, 47],\n",
       "        [45, 44, 46]],\n",
       "\n",
       "       ...,\n",
       "\n",
       "       [[12, 16, 40],\n",
       "        [10, 15, 36],\n",
       "        [ 7, 14, 31],\n",
       "        ...,\n",
       "        [23, 19, 30],\n",
       "        [22, 18, 29],\n",
       "        [20, 16, 27]],\n",
       "\n",
       "       [[ 6, 10, 35],\n",
       "        [ 6, 11, 32],\n",
       "        [ 6, 13, 28],\n",
       "        ...,\n",
       "        [55, 66, 74],\n",
       "        [48, 59, 67],\n",
       "        [41, 52, 60]],\n",
       "\n",
       "       [[ 3,  7, 32],\n",
       "        [ 7, 12, 33],\n",
       "        [11, 18, 33],\n",
       "        ...,\n",
       "        [34, 58, 64],\n",
       "        [22, 46, 52],\n",
       "        [10, 34, 40]]], dtype=uint8)"
      ]
     },
     "execution_count": 3,
     "metadata": {},
     "output_type": "execute_result"
    }
   ],
   "source": [
    "# Read image as 3D tensor\n",
    "img = cv.imread(cv.samples.findFile('wall street.jpg'))\n",
    "img"
   ]
  }
 ],
 "metadata": {
  "kernelspec": {
   "display_name": "Python 3 (ipykernel)",
   "language": "python",
   "name": "python3"
  },
  "language_info": {
   "codemirror_mode": {
    "name": "ipython",
    "version": 3
   },
   "file_extension": ".py",
   "mimetype": "text/x-python",
   "name": "python",
   "nbconvert_exporter": "python",
   "pygments_lexer": "ipython3",
   "version": "3.11.4"
  }
 },
 "nbformat": 4,
 "nbformat_minor": 5
}

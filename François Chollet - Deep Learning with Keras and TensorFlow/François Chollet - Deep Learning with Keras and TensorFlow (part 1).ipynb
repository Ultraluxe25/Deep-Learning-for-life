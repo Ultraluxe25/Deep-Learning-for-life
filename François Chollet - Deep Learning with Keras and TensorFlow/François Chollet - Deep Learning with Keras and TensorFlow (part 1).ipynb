{
 "cells": [
  {
   "cell_type": "markdown",
   "id": "430c5794",
   "metadata": {},
   "source": [
    "# MNIST"
   ]
  },
  {
   "cell_type": "code",
   "execution_count": 1,
   "id": "e0a49b95",
   "metadata": {},
   "outputs": [],
   "source": [
    "# Load MNIST dataset form keras\n",
    "from tensorflow.keras.datasets import mnist\n",
    "(train_images, train_labels), (test_images, test_labels) = mnist.load_data()"
   ]
  },
  {
   "cell_type": "code",
   "execution_count": 2,
   "id": "27a82f83",
   "metadata": {},
   "outputs": [
    {
     "name": "stdout",
     "output_type": "stream",
     "text": [
      "(60000, 28, 28)\n",
      "60000\n",
      "[5 0 4 1 9 2 1 3 1 4]\n",
      "3\n"
     ]
    }
   ],
   "source": [
    "# Train data\n",
    "print(train_images.shape)\n",
    "print(len(train_labels))\n",
    "print(train_labels[:10])\n",
    "print(train_images.ndim)"
   ]
  },
  {
   "cell_type": "code",
   "execution_count": 3,
   "id": "c7f12116",
   "metadata": {},
   "outputs": [
    {
     "name": "stdout",
     "output_type": "stream",
     "text": [
      "(10000, 28, 28)\n",
      "10000\n",
      "[7 2 1 0 4 1 4 9 5 9]\n"
     ]
    }
   ],
   "source": [
    "# Test data\n",
    "print(test_images.shape)\n",
    "print(len(test_labels))\n",
    "print(test_labels[:10])"
   ]
  },
  {
   "cell_type": "code",
   "execution_count": 4,
   "id": "70510b11",
   "metadata": {},
   "outputs": [],
   "source": [
    "# Build a neural network\n",
    "import tensorflow\n",
    "from tensorflow import keras\n",
    "from tensorflow.keras import layers\n",
    "\n",
    "model = keras.Sequential([\n",
    "    layers.Dense(512, activation='relu'),\n",
    "    layers.Dense(10, activation='softmax')\n",
    "])"
   ]
  },
  {
   "cell_type": "code",
   "execution_count": 5,
   "id": "9704446f",
   "metadata": {},
   "outputs": [],
   "source": [
    "# Model compilation\n",
    "model.compile(\n",
    "    optimizer='rmsprop',\n",
    "    loss='sparse_categorical_crossentropy',\n",
    "    metrics=['accuracy']\n",
    ")"
   ]
  },
  {
   "cell_type": "code",
   "execution_count": 6,
   "id": "48baaff3",
   "metadata": {},
   "outputs": [],
   "source": [
    "# Initial data preparation\n",
    "train_images = train_images.reshape((60_000, 28 * 28))\n",
    "train_images = train_images.astype('float32') / 255\n",
    "\n",
    "test_images = test_images.reshape((10_000, 28 * 28))\n",
    "test_images = test_images.astype('float32') / 255"
   ]
  },
  {
   "cell_type": "code",
   "execution_count": 7,
   "id": "6d743cfa",
   "metadata": {},
   "outputs": [
    {
     "name": "stdout",
     "output_type": "stream",
     "text": [
      "Epoch 1/5\n",
      "469/469 [==============================] - 4s 8ms/step - loss: 0.2625 - accuracy: 0.9256\n",
      "Epoch 2/5\n",
      "469/469 [==============================] - 4s 8ms/step - loss: 0.1068 - accuracy: 0.9683\n",
      "Epoch 3/5\n",
      "469/469 [==============================] - 5s 10ms/step - loss: 0.0718 - accuracy: 0.9787\n",
      "Epoch 4/5\n",
      "469/469 [==============================] - 5s 10ms/step - loss: 0.0508 - accuracy: 0.9849\n",
      "Epoch 5/5\n",
      "469/469 [==============================] - 4s 9ms/step - loss: 0.0379 - accuracy: 0.9890\n"
     ]
    },
    {
     "data": {
      "text/plain": [
       "<keras.src.callbacks.History at 0x23e16db7350>"
      ]
     },
     "execution_count": 7,
     "metadata": {},
     "output_type": "execute_result"
    }
   ],
   "source": [
    "# # Training the model\n",
    "model.fit(\n",
    "    x=train_images,\n",
    "    y=train_labels,\n",
    "    batch_size=128,\n",
    "    epochs=5\n",
    ")"
   ]
  },
  {
   "cell_type": "code",
   "execution_count": 8,
   "id": "430de6d3",
   "metadata": {},
   "outputs": [
    {
     "name": "stdout",
     "output_type": "stream",
     "text": [
      "1/1 [==============================] - 0s 105ms/step\n"
     ]
    },
    {
     "data": {
      "text/plain": [
       "array([2.3086773e-07, 6.3787065e-09, 9.2176087e-06, 2.5079621e-04,\n",
       "       1.2976577e-11, 2.0124853e-07, 1.4960234e-12, 9.9973661e-01,\n",
       "       6.1708299e-08, 2.9404437e-06], dtype=float32)"
      ]
     },
     "execution_count": 8,
     "metadata": {},
     "output_type": "execute_result"
    }
   ],
   "source": [
    "# Get predictions\n",
    "test_digits = test_images[0:10]\n",
    "predictions = model.predict(test_digits)\n",
    "predictions[0]"
   ]
  },
  {
   "cell_type": "code",
   "execution_count": 9,
   "id": "cba1495d",
   "metadata": {},
   "outputs": [
    {
     "data": {
      "text/plain": [
       "7"
      ]
     },
     "execution_count": 9,
     "metadata": {},
     "output_type": "execute_result"
    }
   ],
   "source": [
    "# Predicted number\n",
    "result = predictions[0].argmax()\n",
    "result"
   ]
  },
  {
   "cell_type": "code",
   "execution_count": 10,
   "id": "3605e73e",
   "metadata": {},
   "outputs": [
    {
     "data": {
      "text/plain": [
       "0.9997366"
      ]
     },
     "execution_count": 10,
     "metadata": {},
     "output_type": "execute_result"
    }
   ],
   "source": [
    "# Number's probability\n",
    "result_probability = predictions[0][result]\n",
    "result_probability"
   ]
  },
  {
   "cell_type": "code",
   "execution_count": 11,
   "id": "892756f3",
   "metadata": {},
   "outputs": [
    {
     "data": {
      "text/plain": [
       "True"
      ]
     },
     "execution_count": 11,
     "metadata": {},
     "output_type": "execute_result"
    }
   ],
   "source": [
    "# Check predictions\n",
    "result == test_labels[0]"
   ]
  },
  {
   "cell_type": "code",
   "execution_count": 12,
   "id": "cb181e81",
   "metadata": {},
   "outputs": [
    {
     "name": "stdout",
     "output_type": "stream",
     "text": [
      "313/313 [==============================] - 1s 3ms/step - loss: 0.0698 - accuracy: 0.9792\n",
      "test accurace: 0.979200005531311\n"
     ]
    }
   ],
   "source": [
    "# Evaluate model\n",
    "test_loss, test_accuracy = model.evaluate(test_images, test_labels)\n",
    "print(f'test accurace: {test_accuracy}')"
   ]
  },
  {
   "cell_type": "markdown",
   "id": "0cf89cf4",
   "metadata": {},
   "source": [
    "## Tensor is a container for data, usually numeric"
   ]
  },
  {
   "cell_type": "code",
   "execution_count": 15,
   "id": "0144a4a7",
   "metadata": {},
   "outputs": [
    {
     "data": {
      "text/plain": [
       "0"
      ]
     },
     "execution_count": 15,
     "metadata": {},
     "output_type": "execute_result"
    }
   ],
   "source": [
    "# Scalar - zero rank tensor\n",
    "import numpy as np\n",
    "x = np.array(12)\n",
    "x.ndim"
   ]
  },
  {
   "cell_type": "code",
   "execution_count": 16,
   "id": "45e22eb2",
   "metadata": {},
   "outputs": [
    {
     "data": {
      "text/plain": [
       "1"
      ]
     },
     "execution_count": 16,
     "metadata": {},
     "output_type": "execute_result"
    }
   ],
   "source": [
    "# Vector - first rank tensor\n",
    "x = np.array([12, 3, 6, 14, 7])\n",
    "x.ndim"
   ]
  },
  {
   "cell_type": "markdown",
   "id": "9774b725",
   "metadata": {},
   "source": [
    "Don't confuse five-dimensional vector with five-dimensional tensors!\n",
    "\n",
    "A five-dimensional vector has only one axis (and five values on that axis), while a five-dimensional tensor has five axes (and any number of values on each of them)"
   ]
  },
  {
   "cell_type": "markdown",
   "id": "d41c1f90",
   "metadata": {},
   "source": [
    "# page 62 (2nd ed.)"
   ]
  }
 ],
 "metadata": {
  "kernelspec": {
   "display_name": "Python 3 (ipykernel)",
   "language": "python",
   "name": "python3"
  },
  "language_info": {
   "codemirror_mode": {
    "name": "ipython",
    "version": 3
   },
   "file_extension": ".py",
   "mimetype": "text/x-python",
   "name": "python",
   "nbconvert_exporter": "python",
   "pygments_lexer": "ipython3",
   "version": "3.11.4"
  }
 },
 "nbformat": 4,
 "nbformat_minor": 5
}
